{
 "cells": [
  {
   "cell_type": "code",
   "execution_count": 4,
   "metadata": {},
   "outputs": [],
   "source": [
    "import numpy as np\n",
    "import math\n"
   ]
  },
  {
   "cell_type": "code",
   "execution_count": 5,
   "metadata": {},
   "outputs": [],
   "source": [
    "from figures.acc import *\n"
   ]
  },
  {
   "cell_type": "code",
   "execution_count": 6,
   "metadata": {},
   "outputs": [],
   "source": [
    "BN_0 = [BN_0_1,BN_0_2,BN_0_3,BN_0_4,BN_0_5]\n",
    "LN_0 = [LN_0_1,LN_0_2,LN_0_3,LN_0_4,LN_0_5]\n",
    "WN_0 = [WN_0_1,WN_0_2,WN_0_3,WN_0_4,WN_0_5]\n",
    "RN_0 = [RN_0_1,RN_0_2,RN_0_3,RN_0_4,RN_0_5]\n",
    "baseline_0 = [baseline_0_1,baseline_0_2,baseline_0_3,baseline_0_4,baseline_0_5]\n",
    "SN_0 = [SN_0_1,SN_0_2,SN_0_3,SN_0_4,SN_0_5]\n",
    "RLN_0 = [RLN_0_1,RLN_0_2,RLN_0_3,RLN_0_4,RLN_0_5]\n",
    "RNLN_0 = [RNLN_0_1,RNLN_0_2,RNLN_0_3,RNLN_0_4,RNLN_0_5]"
   ]
  },
  {
   "cell_type": "code",
   "execution_count": 7,
   "metadata": {},
   "outputs": [],
   "source": [
    "BN_1 = [BN_1_1,BN_1_2,BN_1_3,BN_1_4,BN_1_5]\n",
    "LN_1 = [LN_1_1,LN_1_2,LN_1_3,LN_1_4,LN_1_5]\n",
    "WN_1 = [WN_1_1,WN_1_2,WN_1_3,WN_1_4,WN_1_5]\n",
    "RN_1 = [RN_1_1,RN_1_2,RN_1_3,RN_1_4,RN_1_5]\n",
    "baseline_1 = [baseline_1_1,baseline_1_2,baseline_1_3,baseline_1_4,baseline_1_5]\n",
    "SN_1 = [SN_1_1,SN_1_2,SN_1_3,SN_1_4,SN_1_5]\n",
    "RLN_1 = [RLN_1_1,RLN_1_2,RLN_1_3,RLN_1_4,RLN_1_5]\n",
    "RNLN_1 = [RNLN_1_1,RNLN_1_2,RNLN_1_3,RNLN_1_4,RNLN_1_5]"
   ]
  },
  {
   "cell_type": "code",
   "execution_count": 8,
   "metadata": {},
   "outputs": [],
   "source": [
    "BN_2 = [BN_2_1,BN_2_2,BN_2_3,BN_2_4,BN_2_5]\n",
    "LN_2 = [LN_2_1,LN_2_2,LN_2_3,LN_2_4,LN_2_5]\n",
    "WN_2 = [WN_2_1,WN_2_2,WN_2_3,WN_2_4,WN_2_5]\n",
    "RN_2 = [RN_2_1,RN_2_2,RN_2_3,RN_2_4,RN_2_5]\n",
    "baseline_2 = [baseline_2_1,baseline_2_2,baseline_2_3,baseline_2_4,baseline_2_5]\n",
    "SN_2 = [SN_2_1,SN_2_2,SN_2_3,SN_2_4,SN_2_5]\n",
    "RLN_2 = [RLN_2_1,RLN_2_2,RLN_2_3,RLN_2_4,RLN_2_5]\n",
    "RNLN_2 = [RNLN_2_1,RNLN_2_2,RNLN_2_3,RNLN_2_4,RNLN_2_5]"
   ]
  },
  {
   "cell_type": "code",
   "execution_count": 9,
   "metadata": {},
   "outputs": [],
   "source": [
    "BN_3 = [BN_3_1,BN_3_2,BN_3_3,BN_3_4,BN_3_5]\n",
    "LN_3 = [LN_3_1,LN_3_2,LN_3_3,LN_3_4,LN_3_5]\n",
    "WN_3 = [WN_3_1,WN_3_2,WN_3_3,WN_3_4,WN_3_5]\n",
    "RN_3 = [RN_3_1,RN_3_2,RN_3_3,RN_3_4,RN_3_5]\n",
    "baseline_3 = [baseline_3_1,baseline_3_2,baseline_3_3,baseline_3_4,baseline_3_5]\n",
    "SN_3 = [SN_3_1,SN_3_2,SN_3_3,SN_3_4,SN_3_5]\n",
    "RLN_3 = [RLN_3_1,RLN_3_2,RLN_3_3,RLN_3_4,RLN_3_5]\n",
    "RNLN_3 = [RNLN_3_1,RNLN_3_2,RNLN_3_3,RNLN_3_4,RNLN_3_5]"
   ]
  },
  {
   "cell_type": "code",
   "execution_count": 10,
   "metadata": {},
   "outputs": [],
   "source": [
    "BN_4 = [BN_4_1,BN_4_2,BN_4_3,BN_4_4,BN_4_5]\n",
    "LN_4 = [LN_4_1,LN_4_2,LN_4_3,LN_4_4,LN_4_5]\n",
    "WN_4 = [WN_4_1,WN_4_2,WN_4_3,WN_4_4,WN_4_5]\n",
    "RN_4 = [RN_4_1,RN_4_2,RN_4_3,RN_4_4,RN_4_5]\n",
    "baseline_4 = [baseline_4_1,baseline_4_2,baseline_4_3,baseline_4_4,baseline_4_5]\n",
    "SN_4 = [SN_4_1,SN_4_2,SN_4_3,SN_4_4,SN_4_5]\n",
    "RLN_4 = [RLN_4_1,RLN_4_2,RLN_4_3,RLN_4_4,RLN_4_5]\n",
    "RNLN_4 = [RNLN_4_1,RNLN_4_2,RNLN_4_3,RNLN_4_4,RNLN_4_5]"
   ]
  },
  {
   "cell_type": "code",
   "execution_count": 11,
   "metadata": {},
   "outputs": [],
   "source": [
    "BN_5 = [BN_5_1,BN_5_2,BN_5_3,BN_5_4,BN_5_5]\n",
    "LN_5 = [LN_5_1,LN_5_2,LN_5_3,LN_5_4,LN_5_5]\n",
    "WN_5 = [WN_5_1,WN_5_2,WN_5_3,WN_5_4,WN_5_5]\n",
    "RN_5 = [RN_5_1,RN_5_2,RN_5_3,RN_5_4,RN_5_5]\n",
    "baseline_5 = [baseline_5_1,baseline_5_2,baseline_5_3,baseline_5_4,baseline_5_5]\n",
    "SN_5 = [SN_5_1,SN_5_2,SN_5_3,SN_5_4,SN_5_5]\n",
    "RLN_5 = [RLN_5_1,RLN_5_2,RLN_5_3,RLN_5_4,RLN_5_5]\n",
    "RNLN_5 = [RNLN_5_1,RNLN_5_2,RNLN_5_3,RNLN_5_4,RNLN_5_5]"
   ]
  },
  {
   "cell_type": "code",
   "execution_count": 12,
   "metadata": {},
   "outputs": [],
   "source": [
    "BN_6 = [BN_6_1,BN_6_2,BN_6_3,BN_6_4,BN_6_5]\n",
    "LN_6 = [LN_6_1,LN_6_2,LN_6_3,LN_6_4,LN_6_5]\n",
    "WN_6 = [WN_6_1,WN_6_2,WN_6_3,WN_6_4,WN_6_5]\n",
    "RN_6 = [RN_6_1,RN_6_2,RN_6_3,RN_6_4,RN_6_5]\n",
    "baseline_6 = [baseline_6_1,baseline_6_2,baseline_6_3,baseline_6_4,baseline_6_5]\n",
    "SN_6 = [SN_6_1,SN_6_2,SN_6_3,SN_6_4,SN_6_5]\n",
    "RLN_6 = [RLN_6_1,RLN_6_2,RLN_6_3,RLN_6_4,RLN_6_5]\n",
    "RNLN_6 = [RNLN_6_1,RNLN_6_2,RNLN_6_3,RNLN_6_4,RNLN_6_5]"
   ]
  },
  {
   "cell_type": "code",
   "execution_count": 13,
   "metadata": {},
   "outputs": [],
   "source": [
    "BN_7 = [BN_7_1,BN_7_2,BN_7_3,BN_7_4,BN_7_5]\n",
    "LN_7 = [LN_7_1,LN_7_2,LN_7_3,LN_7_4,LN_7_5]\n",
    "WN_7 = [WN_7_1,WN_7_2,WN_7_3,WN_7_4,WN_7_5]\n",
    "RN_7 = [RN_7_1,RN_7_2,RN_7_3,RN_7_4,RN_7_5]\n",
    "baseline_7 = [baseline_7_1,baseline_7_2,baseline_7_3,baseline_7_4,baseline_7_5]\n",
    "SN_7 = [SN_7_1,SN_7_2,SN_7_3,SN_7_4,SN_7_5]\n",
    "RLN_7 = [RLN_7_1,RLN_7_2,RLN_7_3,RLN_7_4,RLN_7_5]\n",
    "RNLN_7 = [RNLN_7_1,RNLN_7_2,RNLN_7_3,RNLN_7_4,RNLN_7_5]"
   ]
  },
  {
   "cell_type": "code",
   "execution_count": 14,
   "metadata": {},
   "outputs": [],
   "source": [
    "BN_8 = [BN_8_1,BN_8_2,BN_8_3,BN_8_4,BN_8_5]\n",
    "LN_8 = [LN_8_1,LN_8_2,LN_8_3,LN_8_4,LN_8_5]\n",
    "WN_8 = [WN_8_1,WN_8_2,WN_8_3,WN_8_4,WN_8_5]\n",
    "RN_8 = [RN_8_1,RN_8_2,RN_8_3,RN_8_4,RN_8_5]\n",
    "baseline_8 = [baseline_8_1,baseline_8_2,baseline_8_3,baseline_8_4,baseline_8_5]\n",
    "SN_8 = [SN_8_1,SN_8_2,SN_8_3,SN_8_4,SN_8_5]\n",
    "RLN_8 = [RLN_8_1,RLN_8_2,RLN_8_3,RLN_8_4,RLN_8_5]\n",
    "RNLN_8 = [RNLN_8_1,RNLN_8_2,RNLN_8_3,RNLN_8_4,RNLN_8_5]"
   ]
  },
  {
   "cell_type": "code",
   "execution_count": 15,
   "metadata": {},
   "outputs": [],
   "source": [
    "BN_9 = [BN_9_1,BN_9_2,BN_9_3,BN_9_4,BN_9_5]\n",
    "LN_9 = [LN_9_1,LN_9_2,LN_9_3,LN_9_4,LN_9_5]\n",
    "WN_9 = [WN_9_1,WN_9_2,WN_9_3,WN_9_4,WN_9_5]\n",
    "RN_9 = [RN_9_1,RN_9_2,RN_9_3,RN_9_4,RN_9_5]\n",
    "baseline_9 = [baseline_9_1,baseline_9_2,baseline_9_3,baseline_9_4,baseline_9_5]\n",
    "SN_9 = [SN_9_1,SN_9_2,SN_9_3,SN_9_4,SN_9_5]\n",
    "RLN_9 = [RLN_9_1,RLN_9_2,RLN_9_3,RLN_9_4,RLN_9_5]\n",
    "RNLN_9 = [RNLN_9_1,RNLN_9_2,RNLN_9_3,RNLN_9_4,RNLN_9_5]"
   ]
  },
  {
   "cell_type": "code",
   "execution_count": 16,
   "metadata": {},
   "outputs": [
    {
     "name": "stdout",
     "output_type": "stream",
     "text": [
      "baseline & $ 4.80 \\pm 0.15 $ & $ 14.48 \\pm 0.28 $ & $ 23.74 \\pm 0.28 $ & $ 32.80 \\pm 0.22 $ & $ 42.01 \\pm 0.45 $ & $ 51.99 \\pm 0.32 $ & $ 60.86 \\pm 0.19 $ & $ 70.81 \\pm 0.40 $ & $ 80.67 \\pm 0.36 $ & $ 90.12 \\pm 0.25 $\\\\\n",
      "BN & $ 2.77 \\pm 0.05 $ & $ 12.54 \\pm 0.30 $ & $ 21.77 \\pm 0.25 $ & $ 30.75 \\pm 0.30 $ & $ 40.67 \\pm 0.45 $ & $ 49.96 \\pm 0.46 $ & $ 59.08 \\pm 0.70 $ & $ 67.25 \\pm 0.54 $ & $ 76.55 \\pm 1.41 $ & $ 80.54 \\pm 2.38 $\\\\\n",
      "LN & $ 3.09 \\pm 0.11 $ & $ 8.78 \\pm 0.84 $ & $ 14.22 \\pm 0.65 $ & $ 20.62 \\pm 1.46 $ & $ 26.87 \\pm 0.97 $ & $ 34.23 \\pm 2.08 $ & $ 36.87 \\pm 0.64 $ & $ 41.73 \\pm 2.74 $ & $ 41.20 \\pm 1.13 $ & $ 41.26 \\pm 1.30 $\\\\\n",
      "WN & $ 4.96 \\pm 0.11 $ & $ 14.51 \\pm 0.44 $ & $ 23.72 \\pm 0.39 $ & $ 32.99 \\pm 0.28 $ & $ 41.95 \\pm 0.46 $ & $ 52.10 \\pm 0.30 $ & $ 60.97 \\pm 0.18 $ & $ 70.87 \\pm 0.39 $ & $ 80.76 \\pm 0.36 $ & $ 90.12 \\pm 0.25 $\\\\ \\hline\n",
      "RN & $ 4.91 \\pm 0.39 $ & $ 8.61 \\pm 0.86 $ & $ 14.61 \\pm 0.58 $ & $ 19.49 \\pm 0.45 $ & $ 23.35 \\pm 1.22 $ & $ 33.84 \\pm 1.69 $ & $ 41.47 \\pm 1.91 $ & $ 60.46 \\pm 2.88 $ & $ 81.96 \\pm 0.59 $ & $ 90.11 \\pm 0.24 $\\\\\n",
      "RLN & $ 5.01 \\pm 0.29 $ & $ 9.47 \\pm 1.21 $ & $ 12.32 \\pm 0.56 $ & $ 22.17 \\pm 0.94 $ & $ 23.76 \\pm 1.56 $ & $ 32.23 \\pm 1.66 $ & $ 43.06 \\pm 3.56 $ & $ 57.30 \\pm 6.33 $ & $ 88.36 \\pm 1.77 $ & $ 89.55 \\pm 0.32 $\\\\\n",
      "LN+RN & $ 4.59 \\pm 0.29 $ & $ 8.41 \\pm 1.16 $ & $ 12.46 \\pm 0.87 $ & $ 17.25 \\pm 1.47 $ & $ 25.65 \\pm 1.91 $ & $ 28.71 \\pm 1.97 $ & $ 33.14 \\pm 2.49 $ & $ 36.08 \\pm 2.09 $ & $ 44.54 \\pm 1.74 $ & $ 82.29 \\pm 4.44 $\\\\\n",
      "SN & $ 7.00 \\pm 0.18 $ & $ 12.27 \\pm 1.30 $ & $ 16.12 \\pm 1.39 $ & $ 24.91 \\pm 1.61 $ & $ 31.07 \\pm 1.41 $ & $ 41.87 \\pm 1.78 $ & $ 52.88 \\pm 2.09 $ & $ 68.44 \\pm 1.42 $ & $ 83.34 \\pm 1.85 $ & $ 82.41 \\pm 2.30 $\\\\\n"
     ]
    }
   ],
   "source": [
    "n = 5\n",
    "\n",
    "print(\"baseline & $ %2.2f \\pm %2.2f $ & $ %2.2f \\pm %2.2f $ & $ %2.2f \\pm %2.2f $ & $ %2.2f \\pm %2.2f $ & $ %2.2f \\pm %2.2f $ & $ %2.2f \\pm %2.2f $ & $ %2.2f \\pm %2.2f $ & $ %2.2f \\pm %2.2f $ & $ %2.2f \\pm %2.2f $ & $ %2.2f \\pm %2.2f $\\\\\\\\\" % \n",
    "      (np.mean(baseline_0)*100, np.std(baseline_0)*100/math.sqrt(n),np.mean(baseline_1)*100, np.std(baseline_1)*100/math.sqrt(n),np.mean(baseline_2)*100, np.std(baseline_2)*100/math.sqrt(n),np.mean(baseline_3)*100, np.std(baseline_3)*100/math.sqrt(n),np.mean(baseline_4)*100, np.std(baseline_4)*100/math.sqrt(n),np.mean(baseline_5)*100, np.std(baseline_5)*100/math.sqrt(n),np.mean(baseline_6)*100, np.std(baseline_6)*100/math.sqrt(n),np.mean(baseline_7)*100, np.std(baseline_7)*100/math.sqrt(n),np.mean(baseline_8)*100, np.std(baseline_8)*100/math.sqrt(n),np.mean(baseline_9)*100, np.std(baseline_9)*100/math.sqrt(n)))\n",
    "\n",
    "print(\"BN & $ %2.2f \\pm %2.2f $ & $ %2.2f \\pm %2.2f $ & $ %2.2f \\pm %2.2f $ & $ %2.2f \\pm %2.2f $ & $ %2.2f \\pm %2.2f $ & $ %2.2f \\pm %2.2f $ & $ %2.2f \\pm %2.2f $ & $ %2.2f \\pm %2.2f $ & $ %2.2f \\pm %2.2f $ & $ %2.2f \\pm %2.2f $\\\\\\\\\" % \n",
    "      (np.mean(BN_0)*100, np.std(BN_0)*100/math.sqrt(n),np.mean(BN_1)*100, np.std(BN_1)*100/math.sqrt(n),np.mean(BN_2)*100, np.std(BN_2)*100/math.sqrt(n),np.mean(BN_3)*100, np.std(BN_3)*100/math.sqrt(n),np.mean(BN_4)*100, np.std(BN_4)*100/math.sqrt(n),np.mean(BN_5)*100, np.std(BN_5)*100/math.sqrt(n),np.mean(BN_6)*100, np.std(BN_6)*100/math.sqrt(n),np.mean(BN_7)*100, np.std(BN_7)*100/math.sqrt(n),np.mean(BN_8)*100, np.std(BN_8)*100/math.sqrt(n),np.mean(BN_9)*100, np.std(BN_9)*100/math.sqrt(n)))\n",
    "\n",
    "print(\"LN & $ %2.2f \\pm %2.2f $ & $ %2.2f \\pm %2.2f $ & $ %2.2f \\pm %2.2f $ & $ %2.2f \\pm %2.2f $ & $ %2.2f \\pm %2.2f $ & $ %2.2f \\pm %2.2f $ & $ %2.2f \\pm %2.2f $ & $ %2.2f \\pm %2.2f $ & $ %2.2f \\pm %2.2f $ & $ %2.2f \\pm %2.2f $\\\\\\\\\" % \n",
    "      (np.mean(LN_0)*100, np.std(LN_0)*100/math.sqrt(n),np.mean(LN_1)*100, np.std(LN_1)*100/math.sqrt(n),np.mean(LN_2)*100, np.std(LN_2)*100/math.sqrt(n),np.mean(LN_3)*100, np.std(LN_3)*100/math.sqrt(n),np.mean(LN_4)*100, np.std(LN_4)*100/math.sqrt(n),np.mean(LN_5)*100, np.std(LN_5)*100/math.sqrt(n),np.mean(LN_6)*100, np.std(LN_6)*100/math.sqrt(n),np.mean(LN_7)*100, np.std(LN_7)*100/math.sqrt(n),np.mean(LN_8)*100, np.std(LN_8)*100/math.sqrt(n),np.mean(LN_9)*100, np.std(LN_9)*100/math.sqrt(n)))\n",
    "\n",
    "print(\"WN & $ %2.2f \\pm %2.2f $ & $ %2.2f \\pm %2.2f $ & $ %2.2f \\pm %2.2f $ & $ %2.2f \\pm %2.2f $ & $ %2.2f \\pm %2.2f $ & $ %2.2f \\pm %2.2f $ & $ %2.2f \\pm %2.2f $ & $ %2.2f \\pm %2.2f $ & $ %2.2f \\pm %2.2f $ & $ %2.2f \\pm %2.2f $\\\\\\\\ \\\\hline\" % \n",
    "      (np.mean(WN_0)*100, np.std(WN_0)*100/math.sqrt(n),np.mean(WN_1)*100, np.std(WN_1)*100/math.sqrt(n),np.mean(WN_2)*100, np.std(WN_2)*100/math.sqrt(n),np.mean(WN_3)*100, np.std(WN_3)*100/math.sqrt(n),np.mean(WN_4)*100, np.std(WN_4)*100/math.sqrt(n),np.mean(WN_5)*100, np.std(WN_5)*100/math.sqrt(n),np.mean(WN_6)*100, np.std(WN_6)*100/math.sqrt(n),np.mean(WN_7)*100, np.std(WN_7)*100/math.sqrt(n),np.mean(WN_8)*100, np.std(WN_8)*100/math.sqrt(n),np.mean(WN_9)*100, np.std(WN_9)*100/math.sqrt(n)))\n",
    "\n",
    "print(\"RN & $ %2.2f \\pm %2.2f $ & $ %2.2f \\pm %2.2f $ & $ %2.2f \\pm %2.2f $ & $ %2.2f \\pm %2.2f $ & $ %2.2f \\pm %2.2f $ & $ %2.2f \\pm %2.2f $ & $ %2.2f \\pm %2.2f $ & $ %2.2f \\pm %2.2f $ & $ %2.2f \\pm %2.2f $ & $ %2.2f \\pm %2.2f $\\\\\\\\\" % \n",
    "      (np.mean(RN_0)*100, np.std(RN_0)*100/math.sqrt(n),np.mean(RN_1)*100, np.std(RN_1)*100/math.sqrt(n),np.mean(RN_2)*100, np.std(RN_2)*100/math.sqrt(n),np.mean(RN_3)*100, np.std(RN_3)*100/math.sqrt(n),np.mean(RN_4)*100, np.std(RN_4)*100/math.sqrt(n),np.mean(RN_5)*100, np.std(RN_5)*100/math.sqrt(n),np.mean(RN_6)*100, np.std(RN_6)*100/math.sqrt(n),np.mean(RN_7)*100, np.std(RN_7)*100/math.sqrt(n),np.mean(RN_8)*100, np.std(RN_8)*100/math.sqrt(n),np.mean(RN_9)*100, np.std(RN_9)*100/math.sqrt(n)))\n",
    "\n",
    "print(\"RLN & $ %2.2f \\pm %2.2f $ & $ %2.2f \\pm %2.2f $ & $ %2.2f \\pm %2.2f $ & $ %2.2f \\pm %2.2f $ & $ %2.2f \\pm %2.2f $ & $ %2.2f \\pm %2.2f $ & $ %2.2f \\pm %2.2f $ & $ %2.2f \\pm %2.2f $ & $ %2.2f \\pm %2.2f $ & $ %2.2f \\pm %2.2f $\\\\\\\\\" % \n",
    "      (np.mean(RLN_0)*100, np.std(RLN_0)*100/math.sqrt(n),np.mean(RLN_1)*100, np.std(RLN_1)*100/math.sqrt(n),np.mean(RLN_2)*100, np.std(RLN_2)*100/math.sqrt(n),np.mean(RLN_3)*100, np.std(RLN_3)*100/math.sqrt(n),np.mean(RLN_4)*100, np.std(RLN_4)*100/math.sqrt(n),np.mean(RLN_5)*100, np.std(RLN_5)*100/math.sqrt(n),np.mean(RLN_6)*100, np.std(RLN_6)*100/math.sqrt(n),np.mean(RLN_7)*100, np.std(RLN_7)*100/math.sqrt(n),np.mean(RLN_8)*100, np.std(RLN_8)*100/math.sqrt(n),np.mean(RLN_9)*100, np.std(RLN_9)*100/math.sqrt(n)))\n",
    "\n",
    "print(\"LN+RN & $ %2.2f \\pm %2.2f $ & $ %2.2f \\pm %2.2f $ & $ %2.2f \\pm %2.2f $ & $ %2.2f \\pm %2.2f $ & $ %2.2f \\pm %2.2f $ & $ %2.2f \\pm %2.2f $ & $ %2.2f \\pm %2.2f $ & $ %2.2f \\pm %2.2f $ & $ %2.2f \\pm %2.2f $ & $ %2.2f \\pm %2.2f $\\\\\\\\\" % \n",
    "      (np.mean(RNLN_0)*100, np.std(RNLN_0)*100/math.sqrt(n),np.mean(RNLN_1)*100, np.std(RNLN_1)*100/math.sqrt(n),np.mean(RNLN_2)*100, np.std(RNLN_2)*100/math.sqrt(n),np.mean(RNLN_3)*100, np.std(RNLN_3)*100/math.sqrt(n),np.mean(RNLN_4)*100, np.std(RNLN_4)*100/math.sqrt(n),np.mean(RNLN_5)*100, np.std(RNLN_5)*100/math.sqrt(n),np.mean(RNLN_6)*100, np.std(RNLN_6)*100/math.sqrt(n),np.mean(RNLN_7)*100, np.std(RNLN_7)*100/math.sqrt(n),np.mean(RNLN_8)*100, np.std(RNLN_8)*100/math.sqrt(n),np.mean(RNLN_9)*100, np.std(RNLN_9)*100/math.sqrt(n)))\n",
    "\n",
    "print(\"SN & $ %2.2f \\pm %2.2f $ & $ %2.2f \\pm %2.2f $ & $ %2.2f \\pm %2.2f $ & $ %2.2f \\pm %2.2f $ & $ %2.2f \\pm %2.2f $ & $ %2.2f \\pm %2.2f $ & $ %2.2f \\pm %2.2f $ & $ %2.2f \\pm %2.2f $ & $ %2.2f \\pm %2.2f $ & $ %2.2f \\pm %2.2f $\\\\\\\\\" % \n",
    "      (np.mean(SN_0)*100, np.std(SN_0)*100/math.sqrt(n),np.mean(SN_1)*100, np.std(SN_1)*100/math.sqrt(n),np.mean(SN_2)*100, np.std(SN_2)*100/math.sqrt(n),np.mean(SN_3)*100, np.std(SN_3)*100/math.sqrt(n),np.mean(SN_4)*100, np.std(SN_4)*100/math.sqrt(n),np.mean(SN_5)*100, np.std(SN_5)*100/math.sqrt(n),np.mean(SN_6)*100, np.std(SN_6)*100/math.sqrt(n),np.mean(SN_7)*100, np.std(SN_7)*100/math.sqrt(n),np.mean(SN_8)*100, np.std(SN_8)*100/math.sqrt(n),np.mean(SN_9)*100, np.std(SN_9)*100/math.sqrt(n)))\n",
    "\n"
   ]
  },
  {
   "cell_type": "code",
   "execution_count": null,
   "metadata": {},
   "outputs": [],
   "source": []
  },
  {
   "cell_type": "code",
   "execution_count": null,
   "metadata": {},
   "outputs": [],
   "source": []
  },
  {
   "cell_type": "code",
   "execution_count": null,
   "metadata": {},
   "outputs": [],
   "source": []
  }
 ],
 "metadata": {
  "kernelspec": {
   "display_name": "Python (mlenv)",
   "language": "python",
   "name": "mlenv"
  },
  "language_info": {
   "codemirror_mode": {
    "name": "ipython",
    "version": 3
   },
   "file_extension": ".py",
   "mimetype": "text/x-python",
   "name": "python",
   "nbconvert_exporter": "python",
   "pygments_lexer": "ipython3",
   "version": "3.6.8"
  }
 },
 "nbformat": 4,
 "nbformat_minor": 2
}
